{
 "cells": [
  {
   "cell_type": "code",
   "execution_count": 1,
   "id": "23358590-baf8-4ad7-a875-366d671a41c7",
   "metadata": {
    "tags": []
   },
   "outputs": [],
   "source": [
    "from aicsimageio import AICSImage\n",
    "import numpy as np\n",
    "import napari"
   ]
  },
  {
   "cell_type": "code",
   "execution_count": 2,
   "id": "a2ef4bb6-6376-4a1b-8ceb-af118d922755",
   "metadata": {
    "tags": []
   },
   "outputs": [],
   "source": [
    "image = AICSImage('lif/230503_brD86fb_67945_aDl_647.lif')\n",
    "viewer = napari.Viewer()"
   ]
  },
  {
   "cell_type": "code",
   "execution_count": 3,
   "id": "579ff40b-62b9-4185-8cdc-d61f1f88832b",
   "metadata": {
    "tags": []
   },
   "outputs": [],
   "source": [
    "for scene in image.scenes:\n",
    "    image.set_scene(scene)\n",
    "    shape = image.shape\n",
    "    array = image.data\n",
    "    stack = image.shape[2]\n",
    "    dapi = np.amax(image.data[:,0,:,:,:], axis = 1)\n",
    "    new_layer = viewer.add_image(dapi)\n"
   ]
  },
  {
   "cell_type": "code",
   "execution_count": 9,
   "id": "00fd8153-9be6-4d85-bd9d-d80d55a74952",
   "metadata": {
    "tags": []
   },
   "outputs": [
    {
     "ename": "NameError",
     "evalue": "name 'np' is not defined",
     "output_type": "error",
     "traceback": [
      "\u001b[0;31m---------------------------------------------------------------------------\u001b[0m",
      "\u001b[0;31mNameError\u001b[0m                                 Traceback (most recent call last)",
      "Cell \u001b[0;32mIn[9], line 1\u001b[0m\n\u001b[0;32m----> 1\u001b[0m \u001b[43mnp\u001b[49m\n",
      "\u001b[0;31mNameError\u001b[0m: name 'np' is not defined"
     ]
    }
   ],
   "source": [
    "np"
   ]
  }
 ],
 "metadata": {
  "kernelspec": {
   "display_name": "delta",
   "language": "python",
   "name": "delta"
  },
  "language_info": {
   "codemirror_mode": {
    "name": "ipython",
    "version": 3
   },
   "file_extension": ".py",
   "mimetype": "text/x-python",
   "name": "python",
   "nbconvert_exporter": "python",
   "pygments_lexer": "ipython3",
   "version": "3.8.16"
  }
 },
 "nbformat": 4,
 "nbformat_minor": 5
}
